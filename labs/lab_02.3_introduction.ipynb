{
 "cells": [
  {
   "cell_type": "markdown",
   "metadata": {},
   "source": [
    "# 2.3.1 Basic Commands"
   ]
  },
  {
   "cell_type": "code",
   "execution_count": 3,
   "metadata": {
    "ExecuteTime": {
     "end_time": "2017-06-13T20:38:20.673745Z",
     "start_time": "2017-06-13T20:38:20.660006Z"
    }
   },
   "outputs": [],
   "source": [
    "# imports and setup\n",
    "import numpy as np\n",
    "from scipy.stats import pearsonr\n",
    "\n",
    "import seaborn as sns\n",
    "import matplotlib\n",
    "import matplotlib.pyplot as plt\n",
    "from mpl_toolkits.mplot3d import Axes3D # for 3D plots\n",
    "\n",
    "import math\n",
    "\n",
    "import pandas as pd\n",
    "\n",
    "%matplotlib inline\n",
    "pd.set_option('display.precision', 2) # number precision for pandas\n",
    "plt.style.use('seaborn') # pretty matplotlib plots"
   ]
  },
  {
   "cell_type": "code",
   "execution_count": null,
   "metadata": {
    "ExecuteTime": {
     "end_time": "2017-06-13T20:01:46.011347Z",
     "start_time": "2017-06-13T20:01:45.997858Z"
    }
   },
   "outputs": [],
   "source": [
    "# array creation\n",
    "x = np.array([1, 6, 2])\n",
    "y = np.array([1, 4, 3])\n",
    "len(x), len(y)"
   ]
  },
  {
   "cell_type": "code",
   "execution_count": null,
   "metadata": {
    "ExecuteTime": {
     "end_time": "2017-06-13T20:01:46.024568Z",
     "start_time": "2017-06-13T20:01:46.015380Z"
    }
   },
   "outputs": [],
   "source": [
    "# array operations\n",
    "x + y"
   ]
  },
  {
   "cell_type": "code",
   "execution_count": null,
   "metadata": {
    "ExecuteTime": {
     "end_time": "2017-06-13T20:29:05.439139Z",
     "start_time": "2017-06-13T20:29:05.429659Z"
    }
   },
   "outputs": [],
   "source": [
    "# matrix creation\n",
    "x = np.asmatrix(np.arange(1, 5).reshape(2, 2).transpose())\n",
    "x"
   ]
  },
  {
   "cell_type": "code",
   "execution_count": null,
   "metadata": {
    "ExecuteTime": {
     "end_time": "2017-06-13T20:29:10.625349Z",
     "start_time": "2017-06-13T20:29:10.617623Z"
    }
   },
   "outputs": [],
   "source": [
    "#matrix operations\n",
    "np.power(x, 2)"
   ]
  },
  {
   "cell_type": "code",
   "execution_count": null,
   "metadata": {
    "ExecuteTime": {
     "end_time": "2017-06-13T20:01:46.060277Z",
     "start_time": "2017-06-13T20:01:46.050870Z"
    }
   },
   "outputs": [],
   "source": [
    "# random normal distribution & correlation\n",
    "x = np.random.normal(size=50)\n",
    "y = x + np.random.normal(loc=50, scale=.1, size=50)\n",
    "pearsonr(x, y)[0]"
   ]
  },
  {
   "cell_type": "code",
   "execution_count": null,
   "metadata": {
    "ExecuteTime": {
     "end_time": "2017-06-13T20:01:46.073053Z",
     "start_time": "2017-06-13T20:01:46.063246Z"
    }
   },
   "outputs": [],
   "source": [
    "# random seed and basic statistical functions\n",
    "np.random.seed(3)\n",
    "y = np.random.normal(size=100)\n",
    "y.mean(), y.var(), np.sqrt(y.var()), y.std()"
   ]
  },
  {
   "cell_type": "markdown",
   "metadata": {},
   "source": [
    "# 2.3.2 Graphics"
   ]
  },
  {
   "cell_type": "code",
   "execution_count": null,
   "metadata": {
    "ExecuteTime": {
     "end_time": "2017-06-13T20:06:33.179069Z",
     "start_time": "2017-06-13T20:06:32.737546Z"
    }
   },
   "outputs": [],
   "source": [
    "x = np.random.normal(size=100)\n",
    "y = np.random.normal(size=100)\n",
    "\n",
    "# seaborn scatterplot\n",
    "p = sns.jointplot(x, y, kind='scatter')\n",
    "p.set_axis_labels(xlabel='x axis', ylabel='y axis');"
   ]
  },
  {
   "cell_type": "code",
   "execution_count": null,
   "metadata": {
    "ExecuteTime": {
     "end_time": "2017-06-13T20:01:46.522155Z",
     "start_time": "2017-06-13T20:01:46.517632Z"
    }
   },
   "outputs": [],
   "source": [
    "# create a sequence of numbers\n",
    "x = np.arange(1, 11)\n",
    "x"
   ]
  },
  {
   "cell_type": "code",
   "execution_count": null,
   "metadata": {
    "ExecuteTime": {
     "end_time": "2017-06-13T20:07:06.515679Z",
     "start_time": "2017-06-13T20:07:06.503578Z"
    }
   },
   "outputs": [],
   "source": [
    "# linearly spaced numbers\n",
    "x = np.linspace(-np.pi, np.pi, num=50)\n",
    "x"
   ]
  },
  {
   "cell_type": "code",
   "execution_count": null,
   "metadata": {
    "ExecuteTime": {
     "end_time": "2017-06-13T20:08:46.572575Z",
     "start_time": "2017-06-13T20:08:45.966004Z"
    }
   },
   "outputs": [],
   "source": [
    "x = np.linspace(-np.pi, np.pi, num=50)\n",
    "y = x\n",
    "\n",
    "# simulating R outer function\n",
    "def pf(a, b):\n",
    "    return math.cos(b) / (1 + a**2)\n",
    "\n",
    "f = np.empty((len(x), len(y)))\n",
    " \n",
    "for i in range(len(x)):\n",
    "    for j in range(len(y)):\n",
    "        f[i,j] = pf(x[i], y[j])\n",
    "\n",
    "        \n",
    "# contour plot\n",
    "cp = plt.contour(x, y, f, 45, cmap='viridis')\n",
    "plt.clabel(cp, inline=1, fontsize=10);"
   ]
  },
  {
   "cell_type": "code",
   "execution_count": null,
   "metadata": {
    "ExecuteTime": {
     "end_time": "2017-06-13T20:08:54.978427Z",
     "start_time": "2017-06-13T20:08:54.614479Z"
    }
   },
   "outputs": [],
   "source": [
    "# contour 2\n",
    "fa = (f - f.transpose())/2\n",
    "cp = plt.contour(x, y, fa, 15, cmap='viridis')\n",
    "plt.clabel(cp, inline=1, fontsize=10);"
   ]
  },
  {
   "cell_type": "code",
   "execution_count": null,
   "metadata": {
    "ExecuteTime": {
     "end_time": "2017-06-13T20:08:58.739610Z",
     "start_time": "2017-06-13T20:08:58.308899Z"
    }
   },
   "outputs": [],
   "source": [
    "# heatmap\n",
    "cp = plt.contourf(x, y, fa, 15, cmap='viridis')\n",
    "plt.clabel(cp, inline=1, fontsize=10)\n",
    "plt.colorbar();"
   ]
  },
  {
   "cell_type": "code",
   "execution_count": null,
   "metadata": {
    "ExecuteTime": {
     "end_time": "2017-06-13T20:09:59.159079Z",
     "start_time": "2017-06-13T20:09:58.865435Z"
    },
    "scrolled": true
   },
   "outputs": [],
   "source": [
    "# 3d perspective\n",
    "fig = plt.figure()\n",
    "ax = fig.add_subplot(111, projection='3d')\n",
    "ax.plot_wireframe(x, y, fa, cmap='viridis')\n",
    "ax.view_init(30, 100);"
   ]
  },
  {
   "cell_type": "markdown",
   "metadata": {
    "ExecuteTime": {
     "end_time": "2017-06-13T19:57:49.908623Z",
     "start_time": "2017-06-13T19:57:36.226838Z"
    }
   },
   "source": [
    "# 2.3.3 Indexing Data"
   ]
  },
  {
   "cell_type": "code",
   "execution_count": null,
   "metadata": {
    "ExecuteTime": {
     "end_time": "2017-06-13T20:29:24.614702Z",
     "start_time": "2017-06-13T20:29:24.605374Z"
    }
   },
   "outputs": [],
   "source": [
    "# matrix creation (R equivalent of matrix(1:16, 4 ,4))\n",
    "A = np.asmatrix(np.arange(1, 17).reshape(4, 4).transpose())\n",
    "A"
   ]
  },
  {
   "cell_type": "code",
   "execution_count": null,
   "metadata": {
    "ExecuteTime": {
     "end_time": "2017-06-13T20:31:20.667992Z",
     "start_time": "2017-06-13T20:31:20.660999Z"
    }
   },
   "outputs": [],
   "source": [
    "A[1, 2]"
   ]
  },
  {
   "cell_type": "code",
   "execution_count": null,
   "metadata": {
    "ExecuteTime": {
     "end_time": "2017-06-13T20:34:13.769571Z",
     "start_time": "2017-06-13T20:34:13.761848Z"
    }
   },
   "outputs": [],
   "source": [
    "# list selections needs explicit row repetition for multiple columns\n",
    "A[[[0, 0], [2, 2]], [1, 3]] "
   ]
  },
  {
   "cell_type": "code",
   "execution_count": null,
   "metadata": {
    "ExecuteTime": {
     "end_time": "2017-06-13T20:35:28.030453Z",
     "start_time": "2017-06-13T20:35:28.021984Z"
    }
   },
   "outputs": [],
   "source": [
    "# select a range of rows and columns\n",
    "A[0:3, 1:4]"
   ]
  },
  {
   "cell_type": "code",
   "execution_count": null,
   "metadata": {
    "ExecuteTime": {
     "end_time": "2017-06-13T20:36:50.623704Z",
     "start_time": "2017-06-13T20:36:50.616319Z"
    }
   },
   "outputs": [],
   "source": [
    "# select a range of rows and all columns\n",
    "A[0:2,:]"
   ]
  },
  {
   "cell_type": "code",
   "execution_count": null,
   "metadata": {
    "ExecuteTime": {
     "end_time": "2017-06-13T20:36:52.631832Z",
     "start_time": "2017-06-13T20:36:52.624482Z"
    }
   },
   "outputs": [],
   "source": [
    "# select all rows and a range of columns\n",
    "A[:,0:2]"
   ]
  },
  {
   "cell_type": "code",
   "execution_count": null,
   "metadata": {
    "ExecuteTime": {
     "end_time": "2017-06-13T20:31:06.168934Z",
     "start_time": "2017-06-13T20:31:06.159935Z"
    },
    "scrolled": true
   },
   "outputs": [],
   "source": [
    "# shape of the matrix\n",
    "A.shape"
   ]
  },
  {
   "cell_type": "markdown",
   "metadata": {},
   "source": [
    "# 2.3.4 Loading Data"
   ]
  },
  {
   "cell_type": "code",
   "execution_count": null,
   "metadata": {
    "ExecuteTime": {
     "end_time": "2017-06-13T20:44:29.152873Z",
     "start_time": "2017-06-13T20:44:29.080324Z"
    }
   },
   "outputs": [],
   "source": [
    "# read csv data with pandas into dataframe, explicitly setting na_values.\n",
    "# pandas read_xxx functions infer datatypes, headers, dates, etc. \n",
    "# without explicit declarations\n",
    "Auto = pd.read_csv('../datasets/Auto.csv', na_values=['?'])\n",
    "Auto"
   ]
  },
  {
   "cell_type": "code",
   "execution_count": null,
   "metadata": {
    "ExecuteTime": {
     "end_time": "2017-06-13T20:44:19.762836Z",
     "start_time": "2017-06-13T20:44:19.756495Z"
    }
   },
   "outputs": [],
   "source": [
    "Auto.shape"
   ]
  },
  {
   "cell_type": "code",
   "execution_count": null,
   "metadata": {
    "ExecuteTime": {
     "end_time": "2017-06-13T20:44:31.564846Z",
     "start_time": "2017-06-13T20:44:31.552785Z"
    }
   },
   "outputs": [],
   "source": [
    "# dropping rows (axis-0) where there are NA values (inplace)\n",
    "Auto.dropna(axis=0, inplace=True)\n",
    "Auto.shape"
   ]
  },
  {
   "cell_type": "code",
   "execution_count": null,
   "metadata": {
    "ExecuteTime": {
     "end_time": "2017-06-13T20:45:47.914646Z",
     "start_time": "2017-06-13T20:45:47.907574Z"
    }
   },
   "outputs": [],
   "source": [
    "# get column names of the dataframe\n",
    "list(Auto.columns)"
   ]
  },
  {
   "cell_type": "code",
   "execution_count": null,
   "metadata": {
    "ExecuteTime": {
     "end_time": "2017-06-13T20:47:47.796008Z",
     "start_time": "2017-06-13T20:47:47.325436Z"
    },
    "scrolled": false
   },
   "outputs": [],
   "source": [
    "# seaborn scatterplot\n",
    "pl = sns.jointplot(x='cylinders', y='mpg', data=Auto);"
   ]
  },
  {
   "cell_type": "code",
   "execution_count": null,
   "metadata": {
    "ExecuteTime": {
     "end_time": "2017-06-13T20:49:30.154399Z",
     "start_time": "2017-06-13T20:49:30.147108Z"
    },
    "scrolled": true
   },
   "outputs": [],
   "source": [
    "# changing data type of a column into category\n",
    "Auto['cylinders'] = Auto['cylinders'].astype('category')\n",
    "Auto"
   ]
  },
  {
   "cell_type": "code",
   "execution_count": null,
   "metadata": {},
   "outputs": [],
   "source": [
    "# seaborn boxplot implementation\n",
    "sns.boxplot(x='cylinders', y='mpg', data=Auto);"
   ]
  },
  {
   "cell_type": "code",
   "execution_count": null,
   "metadata": {
    "scrolled": false
   },
   "outputs": [],
   "source": [
    "# seaborn enhanced histogram with density plot\n",
    "sns.distplot(Auto['mpg'], bins=15);"
   ]
  },
  {
   "cell_type": "code",
   "execution_count": null,
   "metadata": {},
   "outputs": [],
   "source": [
    "# seaborn pairplot for selected variables, colored by another\n",
    "sns.pairplot(Auto, vars=['mpg', 'displacement', 'horsepower', 'weight', 'acceleration'], hue='cylinders');"
   ]
  },
  {
   "cell_type": "code",
   "execution_count": null,
   "metadata": {},
   "outputs": [],
   "source": [
    "# summary statistics for all dataframe columns, including non-numerical ones\n",
    "Auto.describe(include='all')"
   ]
  },
  {
   "cell_type": "code",
   "execution_count": null,
   "metadata": {},
   "outputs": [],
   "source": [
    "# summary statistics for a single column\n",
    "# wrapped as dataframe for pretty table display in jupyter\n",
    "pd.DataFrame(Auto['mpg'].describe())"
   ]
  }
 ],
 "metadata": {
  "kernelspec": {
   "display_name": "Python 3 (ipykernel)",
   "language": "python",
   "name": "python3"
  },
  "language_info": {
   "codemirror_mode": {
    "name": "ipython",
    "version": 3
   },
   "file_extension": ".py",
   "mimetype": "text/x-python",
   "name": "python",
   "nbconvert_exporter": "python",
   "pygments_lexer": "ipython3",
   "version": "3.9.15"
  }
 },
 "nbformat": 4,
 "nbformat_minor": 2
}
